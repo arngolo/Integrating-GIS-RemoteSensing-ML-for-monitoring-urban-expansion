{
 "cells": [
  {
   "cell_type": "code",
   "execution_count": null,
   "metadata": {},
   "outputs": [],
   "source": [
    "import time\n",
    "tstart=time.clock()\n",
    "print(tstart)\n",
    "import numpy as np\n",
    "import rasterio\n",
    "import matplotlib.pyplot as plt\n",
    "import pandas as pd\n",
    "import pqkmeans"
   ]
  },
  {
   "cell_type": "code",
   "execution_count": null,
   "metadata": {},
   "outputs": [],
   "source": [
    "def PQKMeansGen(raster, output, k):\n",
    "        NDBI = np.ma.masked_outside(rasterio.open(raster).read(1),-1,1)\n",
    "        MEI = np.ma.masked_outside(rasterio.open(raster).read(2),-1,1)\n",
    "        VIGS = np.ma.masked_outside(rasterio.open(raster).read(3),-1,1)\n",
    "        DBI = np.ma.masked_outside(rasterio.open(raster).read(4),-1,1)\n",
    "        Qz_Calcite = np.ma.masked_outside(rasterio.open(raster).read(5),-1,1)\n",
    "        VV = np.ma.masked_outside(rasterio.open(raster).read(6),-1,1)\n",
    "        VH = np.ma.masked_outside(rasterio.open(raster).read(7),-1,1)\n",
    "        \n",
    "        ###Based on previous failures, the author recommends to use arrays instead of data from pandas in order to have (input values, ndimension):\n",
    "        \n",
    "        data = pd.DataFrame({\"NDBI\":NDBI[NDBI==NDBI],\"MEI\":MEI[MEI==MEI], \"VIGS\":VIGS[VIGS==VIGS], \"DBI\":DBI[DBI==DBI], \"Qz_Calcite\":Qz_Calcite[Qz_Calcite==Qz_Calcite],\"VV\":VV[VV==VV], \"VH\":VH[VH==VH]})\n",
    "        #for calculations using algorithms we have to drop NaN values. previous step!!!!\n",
    "        data2= data.dropna()\n",
    "        \n",
    "        ####but pandas when read in the following form also works:\n",
    "        X = data2[[\"NDBI\", \"MEI\", \"VIGS\",\"DBI\", \"Qz_Calcite\", \"VV\", \"VH\"]]\n",
    "\n",
    "        ####but has some limitations:\n",
    "        \n",
    "        #####so.....\n",
    "        X = np.asarray((data2[[\"NDBI\", \"MEI\", \"VIGS\",\"DBI\", \"Qz_Calcite\", \"VV\", \"VH\"]]))\n",
    "        print(X.nbytes)\n",
    "        print(X.shape)\n",
    "        ####Train the encoder!!!\n",
    "        ####Because we have 12 bands (12D input), our num_subdim or M has to be multiple of the input dimension:\n",
    "        encoder = pqkmeans.encoder.PQEncoder(num_subdim=7, Ks=256)\n",
    "        encoder.fit(X[:5000000])\n",
    "        X_pqcode = encoder.transform(X)\n",
    "        print(X_pqcode.shape)\n",
    "        tmid=time.clock()\n",
    "        print(tmid)\n",
    "      \n",
    "        \n",
    "        ####As can be seen, the reconstructed vectors are similar to the original one.\n",
    "        ###It allows you to compress input vectors to PQ-codes, and store the PQ-codes only (X2_pqcode) In a large-scale data processing scenario\n",
    "        np.save(\"pqcode.npy\", X_pqcode)\n",
    "\n",
    "        ####Clustering\n",
    "        pqkmean = pqkmeans.clustering.PQKMeans(encoder=encoder, k=k)\n",
    "        Labels = pqkmean.fit_predict(X_pqcode) \n",
    "        \n",
    "        #the array of the KMeans result does not contain the NaN values, so it is impossible to reshape to its original shape(raster). the nextstep is to find a way to add the Nan values (then nodata) to the labels. Maybe a for loop!!!\n",
    "        Z= pd.DataFrame({\"Labels\":Labels})\n",
    "        Z_Reindexed = Z.set_index(data2.index)\n",
    "        data[\"Label\"] = Z_Reindexed[\"Labels\"]\n",
    "        Result = pd.to_numeric(data[\"Label\"], downcast = \"float\" )\n",
    "        im = Result.values\n",
    "        im = np.reshape(Result.values, (NDBI.shape[0], NDBI.shape[1] ))\n",
    "        ##### After, Save\n",
    "        PQKMean_output = rasterio.open(output, \"w\", driver = \"GTiff\", height = NDBI.shape[0], width = NDBI.shape[1], dtype = NDBI.dtype, count = 1, nodata = rasterio.open(raster).nodata, crs = \"+proj = utm\", transform = rasterio.open(raster).transform)\n",
    "        PQKMean_output.write(im, 1)\n",
    "        PQKMean_output.close()"
   ]
  },
  {
   "cell_type": "markdown",
   "metadata": {},
   "source": [
    "### Run the code below, and open the image from the output folder in arcGIS Pro (arcmap does not open properly (32bit!!)"
   ]
  },
  {
   "cell_type": "code",
   "execution_count": null,
   "metadata": {},
   "outputs": [],
   "source": [
    "raster= r\"C:/Users/arngo/Desktop/PYTHON/FLAASH_NDBI_MEI_VIGS_DBI_QzCa_VV_VH_10m.tif\"\n",
    "output=r\"C:/Users/arngo/Desktop\\PYTHON\\Program_Result/FLAASH_L8_PqKm_NDBI_MEI_VIGS_DBI_Qz_Calcite_VV_VH_K8_8bits.tif\"\n",
    "k=8\n",
    "PQKMeansGen(raster, output, k)\n",
    "tend=time.clock()\n",
    "print(tend)"
   ]
  },
  {
   "cell_type": "markdown",
   "metadata": {},
   "source": [
    "### change the coordinate system accordingly!!"
   ]
  }
 ],
 "metadata": {
  "kernelspec": {
   "display_name": "Python 3",
   "language": "python",
   "name": "python3"
  },
  "language_info": {
   "codemirror_mode": {
    "name": "ipython",
    "version": 3
   },
   "file_extension": ".py",
   "mimetype": "text/x-python",
   "name": "python",
   "nbconvert_exporter": "python",
   "pygments_lexer": "ipython3",
   "version": "3.7.9"
  }
 },
 "nbformat": 4,
 "nbformat_minor": 2
}
