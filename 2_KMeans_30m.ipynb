{
 "cells": [
  {
   "cell_type": "code",
   "execution_count": 6,
   "metadata": {},
   "outputs": [],
   "source": [
    "import time\n",
    "tstart=time.clock()\n",
    "print(tstart)\n",
    "import numpy as np\n",
    "import rasterio\n",
    "import matplotlib.pyplot as plt\n",
    "import pandas as pd\n",
    "from sklearn.cluster import KMeans"
   ]
  },
  {
   "cell_type": "code",
   "execution_count": 3,
   "metadata": {},
   "outputs": [],
   "source": [
    "def KMeansGen(raster, output, k):\n",
    "        NDBI = np.ma.masked_outside(rasterio.open(raster).read(1),-1,1)\n",
    "        MEI = np.ma.masked_outside(rasterio.open(raster).read(2),-1,1)\n",
    "        VIGS = np.ma.masked_outside(rasterio.open(raster).read(3),-1,1)\n",
    "        DBI = np.ma.masked_outside(rasterio.open(raster).read(4),-1,1)\n",
    "        Qz_Calcite = np.ma.masked_outside(rasterio.open(raster).read(5),-1,1)\n",
    "        VV = np.ma.masked_outside(rasterio.open(raster).read(6),-1,1)\n",
    "        VH = np.ma.masked_outside(rasterio.open(raster).read(7),-1,1)\n",
    "        \n",
    "        data = pd.DataFrame({\"NDBI\":NDBI[NDBI==NDBI],\"MEI\":MEI[MEI==MEI], \"VIGS\":VIGS[VIGS==VIGS], \"DBI\":DBI[DBI==DBI], \"Qz_Calcite\":Qz_Calcite[Qz_Calcite==Qz_Calcite],\"VV\":VV[VV==VV], \"VH\":VH[VH==VH]})\n",
    "        #for calculations using algorithms we have to drop NaN values. previous step!!!!\n",
    "        data2= data.dropna()\n",
    "        X = data2[[\"NDBI\", \"MEI\", \"VIGS\", \"DBI\", \"Qz_Calcite\", \"VV\", \"VH\"]]\n",
    "        kmeans= KMeans(n_clusters =k, random_state =0)\n",
    "        Labels = kmeans.fit(X)\n",
    "        #the array of the KMeans result does not contain the NaN values, so it is impossible to reshape to its original shape(raster). the nextstep is to find a way to add the Nan values (then nodata) to the labels. Maybe a for loop!!!\n",
    "        Z= pd.DataFrame({\"Labels\":Labels.labels_})\n",
    "        Z_Reindexed = Z.set_index(data2.index)\n",
    "        data[\"Label\"] = Z_Reindexed[\"Labels\"]\n",
    "        Result = pd.to_numeric(data[\"Label\"], downcast = \"float\" )\n",
    "        im = Result.values\n",
    "        im = np.reshape(Result.values, (NDBI.shape[0], NDBI.shape[1] ))\n",
    "        ##### After, Save\n",
    "        KMean_output = rasterio.open(output, \"w\", driver = \"GTiff\", height = NDBI.shape[0], width = NDBI.shape[1], dtype = NDBI.dtype, count = 1, nodata = rasterio.open(raster).nodata, crs = \"+proj = utm\", transform = rasterio.open(raster).transform)\n",
    "        KMean_output.write(im, 1)\n",
    "        KMean_output.close()"
   ]
  },
  {
   "cell_type": "markdown",
   "metadata": {},
   "source": [
    "### Run the code below, and open the image from the output folder in arcGIS Pro (arcmap does not open properly (32bit!!))"
   ]
  },
  {
   "cell_type": "code",
   "execution_count": 5,
   "metadata": {},
   "outputs": [],
   "source": [
    "raster= \"/Users/arngolo/Downloads/RESEARCH_Angolo/PYTHON/NDBI_MEI_VIGS_DBI_QzCa_VV_VH_10m.tif\"\n",
    "output=\"/Users/arngolo/Downloads/RESEARCH_Angolo/PYTHON/Program_Result/Luanda_NDBI_MEI_VIGS_DBI_QzCa_VV_VH_10m_k8.tif\"\n",
    "k=8\n",
    "KMeansGen(raster, output, k)\n",
    "tend=time.clock()\n",
    "print(tend)"
   ]
  },
  {
   "cell_type": "markdown",
   "metadata": {},
   "source": [
    "### change the coordinate system accordingly!!"
   ]
  }
 ],
 "metadata": {
  "kernelspec": {
   "display_name": "Python 3",
   "language": "python",
   "name": "python3"
  },
  "language_info": {
   "codemirror_mode": {
    "name": "ipython",
    "version": 3
   },
   "file_extension": ".py",
   "mimetype": "text/x-python",
   "name": "python",
   "nbconvert_exporter": "python",
   "pygments_lexer": "ipython3",
   "version": "3.7.9"
  }
 },
 "nbformat": 4,
 "nbformat_minor": 2
}
